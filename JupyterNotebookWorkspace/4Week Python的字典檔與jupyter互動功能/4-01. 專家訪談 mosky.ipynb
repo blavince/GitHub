{
 "cells": [
  {
   "cell_type": "markdown",
   "metadata": {},
   "source": [
    "# 三個能力\n",
    "寫程式三個階段\n",
    "\n",
    "make it work\n",
    "\n",
    "make it right\n",
    "\n",
    "make it fast\n",
    "\n",
    "\n",
    "## 勿忘, 寫程式的目的是 Resolve problems"
   ]
  },
  {
   "cell_type": "code",
   "execution_count": null,
   "metadata": {},
   "outputs": [],
   "source": []
  }
 ],
 "metadata": {
  "kernelspec": {
   "display_name": "Python 3",
   "language": "python",
   "name": "python3"
  },
  "language_info": {
   "codemirror_mode": {
    "name": "ipython",
    "version": 3
   },
   "file_extension": ".py",
   "mimetype": "text/x-python",
   "name": "python",
   "nbconvert_exporter": "python",
   "pygments_lexer": "ipython3",
   "version": "3.6.5"
  }
 },
 "nbformat": 4,
 "nbformat_minor": 2
}
