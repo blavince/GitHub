{
 "cells": [
  {
   "cell_type": "markdown",
   "metadata": {},
   "source": [
    "# 字串"
   ]
  },
  {
   "cell_type": "code",
   "execution_count": 1,
   "metadata": {},
   "outputs": [],
   "source": [
    "keyword = \"悲傷\""
   ]
  },
  {
   "cell_type": "code",
   "execution_count": 2,
   "metadata": {},
   "outputs": [],
   "source": [
    "message = \"我今天覺得很悲傷\""
   ]
  },
  {
   "cell_type": "code",
   "execution_count": 3,
   "metadata": {},
   "outputs": [
    {
     "name": "stdout",
     "output_type": "stream",
     "text": [
      "妳很悲傷嘛？ 別難過! 人生還有很多面相\n"
     ]
    }
   ],
   "source": [
    "if keyword in message:\n",
    "    print(\"妳很悲傷嘛？ 別難過! 人生還有很多面相\")"
   ]
  },
  {
   "cell_type": "code",
   "execution_count": 5,
   "metadata": {},
   "outputs": [
    {
     "name": "stdout",
     "output_type": "stream",
     "text": [
      "今天覺得怎麼樣 >> 還好\n",
      "今天覺得怎麼樣 >> 難過\n",
      "今天覺得怎麼樣 >> 悲傷\n",
      "別難過！\n",
      "\n",
      "\n",
      "成功跳出來了阿！\n",
      "\n"
     ]
    }
   ],
   "source": [
    "bye = False\n",
    "while bye != True:\n",
    "    message = input(\"今天覺得怎麼樣 >> \")\n",
    "    if keyword in message:\n",
    "        bye = True\n",
    "        print(\"別難過！\")\n",
    "        \n",
    "print(\"\"\"\n",
    "\n",
    "成功跳出來了阿！\n",
    "\"\"\")"
   ]
  },
  {
   "cell_type": "code",
   "execution_count": null,
   "metadata": {},
   "outputs": [],
   "source": []
  }
 ],
 "metadata": {
  "kernelspec": {
   "display_name": "Python 3",
   "language": "python",
   "name": "python3"
  },
  "language_info": {
   "codemirror_mode": {
    "name": "ipython",
    "version": 3
   },
   "file_extension": ".py",
   "mimetype": "text/x-python",
   "name": "python",
   "nbconvert_exporter": "python",
   "pygments_lexer": "ipython3",
   "version": "3.6.5"
  }
 },
 "nbformat": 4,
 "nbformat_minor": 2
}
