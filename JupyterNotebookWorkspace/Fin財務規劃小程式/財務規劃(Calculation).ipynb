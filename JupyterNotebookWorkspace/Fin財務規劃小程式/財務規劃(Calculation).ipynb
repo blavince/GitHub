{
 "cells": [
  {
   "cell_type": "code",
   "execution_count": 1,
   "metadata": {},
   "outputs": [
    {
     "data": {
      "application/vnd.jupyter.widget-view+json": {
       "model_id": "2e725af3edfd4c579add5f81402de087",
       "version_major": 2,
       "version_minor": 0
      },
      "text/plain": [
       "interactive(children=(FloatSlider(value=20.0, description='起始資金', step=10.0), IntSlider(value=30, description=…"
      ]
     },
     "metadata": {},
     "output_type": "display_data"
    },
    {
     "data": {
      "text/plain": [
       "<function __main__.asset_prediction(起始資金, 起始年紀, 每月薪水, 每月開銷, 每月房租, 退休年齡, 投資部位, 投資年利率, 買房價格, 買房頭期款, 買房年紀, 房貸利率, 貸款年數)>"
      ]
     },
     "execution_count": 1,
     "metadata": {},
     "output_type": "execute_result"
    }
   ],
   "source": [
    "%matplotlib inline\n",
    "import random\n",
    "import numpy as np\n",
    "import pandas as pd\n",
    "import matplotlib.pyplot as plt\n",
    "def asset_prediction(起始資金, 起始年紀,\n",
    "    每月薪水 ,\n",
    "    每月開銷 ,\n",
    "    每月房租 ,\n",
    "    退休年齡 ,\n",
    "    投資部位,\n",
    "    投資年利率,\n",
    "    買房價格,\n",
    "    買房頭期款,\n",
    "    買房年紀,\n",
    "    房貸利率,\n",
    "    貸款年數,):\n",
    "    \n",
    "    預測時段 = range(起始年紀, 90)\n",
    "    每年淨額 = pd.Series(0, index=預測時段)\n",
    "    每年淨額.iloc[0] = 起始資金\n",
    "    每年淨額.loc[:退休年齡] += 每月薪水 * 12\n",
    "    每年淨額 -= (每月開銷 + 每月房租) *12\n",
    "    \n",
    "    \n",
    "    def compound_interest(arr, ratio, return_rate):\n",
    "        ret = [arr.iloc[0]]\n",
    "        for v in arr[1:]:\n",
    "            ret.append(ret[-1] * ratio * (return_rate/100 + 1) + ret[-1] * (1 - ratio) + v)\n",
    "        return pd.Series(ret, 預測時段)\n",
    "    \n",
    "    買房花費 = pd.Series(0, index=預測時段)\n",
    "    買房花費[買房年紀] = 買房頭期款\n",
    "    買房花費.loc[買房年紀:買房年紀+貸款年數-1] += (買房價格 - 買房頭期款) / 貸款年數\n",
    "    \n",
    "    欠款 = pd.Series(0, index=預測時段)\n",
    "    欠款[買房年紀] = 買房價格\n",
    "    欠款 = 欠款.cumsum()\n",
    "    欠款 = 欠款 - 買房花費.cumsum()\n",
    "    利息 = 欠款.shift().fillna(0) * 房貸利率 / 100\n",
    "    \n",
    "    房租年繳 = pd.Series(每月房租*12, index=預測時段)\n",
    "    房租年繳.loc[買房年紀:] = 0\n",
    "    \n",
    "    每年淨額_買房 = pd.Series(0, index=預測時段)\n",
    "    每年淨額_買房.iloc[0] = 起始資金\n",
    "    每年淨額_買房.loc[:退休年齡] += 每月薪水 * 12\n",
    "    每年淨額_買房 -= (每月開銷*12 + 房租年繳 + 利息 + 買房花費)\n",
    "    \n",
    "    pd.DataFrame({\n",
    "        'no invest, no house': 每年淨額.cumsum(),\n",
    "        'invest, no house': compound_interest(每年淨額, 投資部位, 投資年利率),\n",
    "        'no invest, house': 每年淨額_買房.cumsum(),\n",
    "        'invest, house': compound_interest(每年淨額_買房, 投資部位, 投資年利率),\n",
    "        \n",
    "    }).plot()\n",
    "    \n",
    "    \n",
    "    #import matplotlib.pylab as plt\n",
    "    plt.ylim(0, None)\n",
    "    \n",
    "    print('月繳房貸', (買房價格 - 買房頭期款) / 貸款年數 / 12)\n",
    "    print('利息', 利息.sum() / 貸款年數 / 12)\n",
    "    print('總共月繳交: ', ((買房價格 - 買房頭期款) / 貸款年數 / 12)+(利息.sum() / 貸款年數 / 12))\n",
    "    \n",
    "import ipywidgets as widgets\n",
    "widgets.interact(asset_prediction,\n",
    "    起始資金=widgets.FloatSlider(min=0, max=100, step=10, value=20),\n",
    "    起始年紀=widgets.IntSlider(min=0, max=100, step=1, value=30),\n",
    "    每月薪水=widgets.FloatSlider(min=0, max=20, step=0.1, value=5.4),\n",
    "    每月開銷=widgets.FloatSlider(min=0, max=20, step=0.1, value=1),\n",
    "    每月房租=widgets.FloatSlider(min=0, max=20, step=0.1, value=1),\n",
    "    退休年齡=widgets.IntSlider(min=0, max=100, step=1, value=60),\n",
    "    投資部位=widgets.FloatSlider(min=0, max=1, step=0.1, value=0.7),\n",
    "    投資年利率=widgets.FloatSlider(min=0, max=30, step=0.1, value=5),\n",
    "    買房價格=widgets.IntSlider(min=100, max=5000, step=50, value=300),\n",
    "    買房頭期款=widgets.IntSlider(min=100, max=2000, step=10, value=100),\n",
    "    買房年紀=widgets.IntSlider(min=20, max=100, step=1, value=40),\n",
    "    房貸利率=widgets.FloatSlider(min=1, max=5, step=0.1, value=2.4),\n",
    "    貸款年數=widgets.IntSlider(min=0, max=40, step=1, value=20)\n",
    ")"
   ]
  },
  {
   "cell_type": "code",
   "execution_count": null,
   "metadata": {},
   "outputs": [],
   "source": []
  },
  {
   "cell_type": "markdown",
   "metadata": {},
   "source": [
    "![table](table.png) ![pic](pic.png)"
   ]
  },
  {
   "cell_type": "code",
   "execution_count": null,
   "metadata": {},
   "outputs": [],
   "source": []
  }
 ],
 "metadata": {
  "kernelspec": {
   "display_name": "Python 3",
   "language": "python",
   "name": "python3"
  },
  "language_info": {
   "codemirror_mode": {
    "name": "ipython",
    "version": 3
   },
   "file_extension": ".py",
   "mimetype": "text/x-python",
   "name": "python",
   "nbconvert_exporter": "python",
   "pygments_lexer": "ipython3",
   "version": "3.6.5"
  }
 },
 "nbformat": 4,
 "nbformat_minor": 2
}
