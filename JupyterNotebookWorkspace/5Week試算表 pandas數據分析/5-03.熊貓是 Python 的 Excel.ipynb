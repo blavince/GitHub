{
 "cells": [
  {
   "cell_type": "code",
   "execution_count": 1,
   "metadata": {},
   "outputs": [],
   "source": [
    "%matplotlib inline\n",
    "\n",
    "import numpy as np\n",
    "import matplotlib.pyplot as plt"
   ]
  },
  {
   "cell_type": "code",
   "execution_count": 2,
   "metadata": {},
   "outputs": [],
   "source": [
    "import pandas as pd"
   ]
  },
  {
   "cell_type": "code",
   "execution_count": 11,
   "metadata": {},
   "outputs": [
    {
     "name": "stdout",
     "output_type": "stream",
     "text": [
      "5-01.專家訪談 秋蕙.ipynb               5-03.熊貓是 Python 的 Excel.ipynb\r\n",
      "5-02.第五週課程簡介.ipynb              Ahorro.csv\r\n"
     ]
    }
   ],
   "source": [
    "%ls"
   ]
  },
  {
   "cell_type": "code",
   "execution_count": 29,
   "metadata": {},
   "outputs": [],
   "source": [
    "df = pd.read_csv(\"Ahorro.csv\")"
   ]
  },
  {
   "cell_type": "code",
   "execution_count": 30,
   "metadata": {},
   "outputs": [
    {
     "data": {
      "text/html": [
       "<div>\n",
       "<style scoped>\n",
       "    .dataframe tbody tr th:only-of-type {\n",
       "        vertical-align: middle;\n",
       "    }\n",
       "\n",
       "    .dataframe tbody tr th {\n",
       "        vertical-align: top;\n",
       "    }\n",
       "\n",
       "    .dataframe thead th {\n",
       "        text-align: right;\n",
       "    }\n",
       "</style>\n",
       "<table border=\"1\" class=\"dataframe\">\n",
       "  <thead>\n",
       "    <tr style=\"text-align: right;\">\n",
       "      <th></th>\n",
       "      <th></th>\n",
       "      <th></th>\n",
       "      <th></th>\n",
       "      <th></th>\n",
       "      <th>-- 支出 --</th>\n",
       "    </tr>\n",
       "  </thead>\n",
       "  <tbody>\n",
       "    <tr>\n",
       "      <th>日期</th>\n",
       "      <th>帳戶</th>\n",
       "      <th>帳戶貨幣</th>\n",
       "      <th>類別</th>\n",
       "      <th>金額</th>\n",
       "      <td>描述</td>\n",
       "    </tr>\n",
       "    <tr>\n",
       "      <th rowspan=\"2\" valign=\"top\">2017/08/01</th>\n",
       "      <th rowspan=\"2\" valign=\"top\">自己</th>\n",
       "      <th rowspan=\"2\" valign=\"top\">TWD</th>\n",
       "      <th>早餐</th>\n",
       "      <th>60</th>\n",
       "      <td></td>\n",
       "    </tr>\n",
       "    <tr>\n",
       "      <th>交通</th>\n",
       "      <th>130</th>\n",
       "      <td>Oil</td>\n",
       "    </tr>\n",
       "    <tr>\n",
       "      <th>2017/08/02</th>\n",
       "      <th>自己</th>\n",
       "      <th>TWD</th>\n",
       "      <th>交通</th>\n",
       "      <th>120</th>\n",
       "      <td>20*6</td>\n",
       "    </tr>\n",
       "    <tr>\n",
       "      <th>2017/08/03</th>\n",
       "      <th>老婆</th>\n",
       "      <th>TWD</th>\n",
       "      <th>飲料</th>\n",
       "      <th>45</th>\n",
       "      <td>木瓜牛奶</td>\n",
       "    </tr>\n",
       "  </tbody>\n",
       "</table>\n",
       "</div>"
      ],
      "text/plain": [
       "                              -- 支出 -- \n",
       "日期          帳戶  帳戶貨幣  類別  金額        描述 \n",
       "2017/08/01  自己  TWD   早餐  60           \n",
       "                      交通  130    Oil   \n",
       "2017/08/02  自己  TWD   交通  120    20*6  \n",
       "2017/08/03  老婆  TWD   飲料  45      木瓜牛奶 "
      ]
     },
     "execution_count": 30,
     "metadata": {},
     "output_type": "execute_result"
    }
   ],
   "source": [
    "df.head()"
   ]
  }
 ],
 "metadata": {
  "kernelspec": {
   "display_name": "Python 3",
   "language": "python",
   "name": "python3"
  },
  "language_info": {
   "codemirror_mode": {
    "name": "ipython",
    "version": 3
   },
   "file_extension": ".py",
   "mimetype": "text/x-python",
   "name": "python",
   "nbconvert_exporter": "python",
   "pygments_lexer": "ipython3",
   "version": "3.6.5"
  }
 },
 "nbformat": 4,
 "nbformat_minor": 2
}
