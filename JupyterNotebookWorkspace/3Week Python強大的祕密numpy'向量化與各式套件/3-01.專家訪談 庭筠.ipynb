{
 "cells": [
  {
   "cell_type": "markdown",
   "metadata": {},
   "source": [
    "# 她本身成大畢業, 自學 Python, 想走資料分析探勘的方向\n",
    "\n",
    "同時分享了她是怎麼到美國去工作的路程, 但目前其實是在實習( 但至少在西雅圖)"
   ]
  },
  {
   "cell_type": "markdown",
   "metadata": {},
   "source": [
    "## 有四個技能推薦\n",
    "* Python\n",
    "* git\n",
    "* linux\n",
    "* 資料庫 不是說要很強, 但至少要知道 Mysql ... 之類的基本知識(操作' 或者和其他種資料庫語法不同之處)"
   ]
  },
  {
   "cell_type": "code",
   "execution_count": null,
   "metadata": {},
   "outputs": [],
   "source": []
  }
 ],
 "metadata": {
  "kernelspec": {
   "display_name": "Python 3",
   "language": "python",
   "name": "python3"
  },
  "language_info": {
   "codemirror_mode": {
    "name": "ipython",
    "version": 3
   },
   "file_extension": ".py",
   "mimetype": "text/x-python",
   "name": "python",
   "nbconvert_exporter": "python",
   "pygments_lexer": "ipython3",
   "version": "3.6.5"
  }
 },
 "nbformat": 4,
 "nbformat_minor": 2
}
